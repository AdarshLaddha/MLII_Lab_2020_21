{
  "nbformat": 4,
  "nbformat_minor": 0,
  "metadata": {
    "colab": {
      "name": "CIFAR FFNN.ipynb",
      "provenance": []
    },
    "kernelspec": {
      "name": "python3",
      "display_name": "Python 3"
    }
  },
  "cells": [
    {
      "cell_type": "code",
      "metadata": {
        "id": "M3qGhUYzC4FY",
        "colab_type": "code",
        "colab": {}
      },
      "source": [
        "%matplotlib inline\n",
        "%config InlineBackend.figure_format = 'retina'\n",
        "\n",
        "from collections import OrderedDict\n",
        "\n",
        "import numpy as np\n",
        "import time\n",
        "import matplotlib.pyplot as plt\n",
        "\n",
        "\n",
        "import torch \n",
        "import torchvision\n",
        "from torch import nn\n",
        "from torch import optim\n",
        "import torch.nn.functional as F"
      ],
      "execution_count": null,
      "outputs": []
    },
    {
      "cell_type": "code",
      "metadata": {
        "id": "gw9gIiSgEBS9",
        "colab_type": "code",
        "colab": {
          "base_uri": "https://localhost:8080/",
          "height": 50
        },
        "outputId": "abc609e1-e433-4347-9bf6-3717806b5cce"
      },
      "source": [
        "from torchvision import datasets, transforms\n",
        "\n",
        "transform = transforms.Compose([\n",
        "                                transforms.Resize((32, 32)),\n",
        "                                transforms.CenterCrop((32, 32)),\n",
        "                                transforms.Grayscale(num_output_channels=1),\n",
        "                                transforms.ToTensor(), \n",
        "                                transforms.Normalize((0.5), (0.5))])\n",
        "\n",
        "trainset = datasets.CIFAR10('CIFAR_data/', download=True, train=True, transform=transform)\n",
        "trainloader = torch.utils.data.DataLoader(trainset, batch_size=64, shuffle=True)\n",
        "\n",
        "testset = datasets.CIFAR10('CIFAR_data/', download=True, train=False, transform=transform)\n",
        "testloader = torch.utils.data.DataLoader(trainset, batch_size=64, shuffle=True)\n",
        "\n",
        "classes = ('plane', 'car', 'bird', 'cat',\n",
        "           'deer', 'dog', 'frog', 'horse', 'ship', 'truck')"
      ],
      "execution_count": null,
      "outputs": [
        {
          "output_type": "stream",
          "text": [
            "Files already downloaded and verified\n",
            "Files already downloaded and verified\n"
          ],
          "name": "stdout"
        }
      ]
    },
    {
      "cell_type": "code",
      "metadata": {
        "id": "57ns6HefFXSe",
        "colab_type": "code",
        "colab": {
          "base_uri": "https://localhost:8080/",
          "height": 154
        },
        "outputId": "52519ad3-1794-402a-82a6-9526243493f4"
      },
      "source": [
        "def imshow(img):\n",
        "    img = img / 2 + 0.5 \n",
        "    npimg = img.numpy()\n",
        "    plt.imshow(np.transpose(npimg, (1, 2, 0)))\n",
        "    plt.show()\n",
        "\n",
        "images, labels = next(iter(trainloader))\n",
        "\n",
        "imshow(torchvision.utils.make_grid([image for image in images[:4]]))\n",
        "print(' '.join('%5s' % classes[labels[j]] for j in range(4)))"
      ],
      "execution_count": null,
      "outputs": [
        {
          "output_type": "display_data",
          "data": {
            "image/png": "[encoded data removed]",
            "text/plain": [
              "<Figure size 432x288 with 1 Axes>"
            ]
          },
          "metadata": {
            "tags": [],
            "image/png": {
              "width": 369,
              "height": 120
            },
            "needs_background": "light"
          }
        },
        {
          "output_type": "stream",
          "text": [
            "plane  bird  deer truck\n"
          ],
          "name": "stdout"
        }
      ]
    },
    {
      "cell_type": "code",
      "metadata": {
        "id": "KnrzlHHoQUi4",
        "colab_type": "code",
        "colab": {}
      },
      "source": [
        "input_size = 1024\n",
        "hidden_sizes = [512, 256, 128, 64, 32]\n",
        "output_size = 10\n",
        "\n",
        "model = nn.Sequential(OrderedDict([\n",
        "                      ('fc1', nn.Linear(input_size, hidden_sizes[0])),\n",
        "                      ('relu1', nn.ReLU()),\n",
        "                      ('fc2', nn.Linear(hidden_sizes[0], hidden_sizes[1])),\n",
        "                      ('relu2', nn.ReLU()),\n",
        "                      ('fc3', nn.Linear(hidden_sizes[1], hidden_sizes[2])),\n",
        "                      ('relu3', nn.ReLU()),\n",
        "                      ('fc4', nn.Linear(hidden_sizes[2], hidden_sizes[3])),\n",
        "                      ('relu4', nn.ReLU()),\n",
        "                      ('fc5', nn.Linear(hidden_sizes[3], hidden_sizes[4])),\n",
        "                      ('relu5', nn.ReLU()),\n",
        "                      ('logits', nn.Linear(hidden_sizes[4], output_size))]))"
      ],
      "execution_count": null,
      "outputs": []
    },
    {
      "cell_type": "code",
      "metadata": {
        "id": "bj8uDfo9Dj8I",
        "colab_type": "code",
        "colab": {}
      },
      "source": [
        "criterion = nn.CrossEntropyLoss()\n",
        "optimizer = optim.Adam(model.parameters(), lr=0.01)"
      ],
      "execution_count": null,
      "outputs": []
    },
    {
      "cell_type": "code",
      "metadata": {
        "id": "lEYjsMGjH8Hu",
        "colab_type": "code",
        "colab": {
          "base_uri": "https://localhost:8080/",
          "height": 134
        },
        "outputId": "7b13f4f6-1832-4592-b5ed-cab97e6d0862"
      },
      "source": [
        "images, lables = next(iter(trainloader))\n",
        "images.resize_(images.shape[0], 1024)\n",
        "\n",
        "output = model.forward(images)\n",
        "ps = F.softmax(output, dim=1)\n",
        "equality = (labels.data==ps.max(dim=1)[1])\n",
        "equality"
      ],
      "execution_count": null,
      "outputs": [
        {
          "output_type": "execute_result",
          "data": {
            "text/plain": [
              "tensor([ True, False, False, False, False, False, False,  True, False, False,\n",
              "        False, False, False, False,  True, False, False, False, False, False,\n",
              "        False, False, False, False, False, False, False, False, False, False,\n",
              "        False, False,  True, False, False,  True, False, False, False, False,\n",
              "        False, False,  True, False, False, False,  True, False, False, False,\n",
              "        False, False, False, False, False,  True,  True, False, False, False,\n",
              "        False, False, False, False])"
            ]
          },
          "metadata": {
            "tags": []
          },
          "execution_count": 30
        }
      ]
    },
    {
      "cell_type": "code",
      "metadata": {
        "id": "bImPRJIWXjGt",
        "colab_type": "code",
        "colab": {}
      },
      "source": [
        "def validation(model, testloader, criterion):\n",
        "  test_loss = 0\n",
        "  accuracy = 0\n",
        "  for images, labels in testloader:\n",
        "    images.resize_(images.shape[0], 1024)\n",
        "\n",
        "    output = model.forward(images)\n",
        "    test_loss += criterion(output, labels).item()\n",
        "\n",
        "    ps = F.softmax(output, dim=1)\n",
        "    equality = (labels.data==ps.max(dim=1)[1])\n",
        "    accuracy = equality.type(torch.FloatTensor).mean()\n",
        "  return test_loss, accuracy"
      ],
      "execution_count": null,
      "outputs": []
    },
    {
      "cell_type": "code",
      "metadata": {
        "id": "nnVZzrXBRjpQ",
        "colab_type": "code",
        "colab": {
          "base_uri": "https://localhost:8080/",
          "height": 622
        },
        "outputId": "20a60d3d-375b-4e97-f503-e53d8dad80b5"
      },
      "source": [
        "epochs = 3\n",
        "print_every = 64\n",
        "steps = 0\n",
        "for e in range(epochs):\n",
        "  running_loss = 0\n",
        "  for images, labels in trainloader:\n",
        "    steps += 1\n",
        "    images.resize_(images.shape[0], 1024)\n",
        "\n",
        "    optimizer.zero_grad()\n",
        "\n",
        "    output = model.forward(images)\n",
        "    loss = criterion(output, labels)\n",
        "    loss.backward()\n",
        "    optimizer.step()\n",
        "\n",
        "    running_loss += loss.item()\n",
        "\n",
        "    if steps % print_every == 0:\n",
        "\n",
        "      with torch.no_grad():\n",
        "        test_loss, accuracy = validation(model, testloader, criterion)\n",
        "\n",
        "      print(\"Epoch: {}/{}...\".format(e+1, epochs),\n",
        "            \"Training Loss: {:.3f}\".format(running_loss/print_every),\n",
        "            \"Test Loss: {:.3f}\".format(test_loss/len(testloader)),\n",
        "            \"Test Accuracy: {:.3f}\".format(accuracy))\n",
        "      \n",
        "      running_loss = 0"
      ],
      "execution_count": null,
      "outputs": [
        {
          "output_type": "stream",
          "text": [
            "Epoch: 1/3... Training Loss: 2.205 Test Loss: 2.225 Test Accuracy: 0.062\n",
            "Epoch: 1/3... Training Loss: 2.116 Test Loss: 2.081 Test Accuracy: 0.312\n",
            "Epoch: 1/3... Training Loss: 2.076 Test Loss: 2.087 Test Accuracy: 0.188\n",
            "Epoch: 1/3... Training Loss: 2.070 Test Loss: 2.031 Test Accuracy: 0.250\n",
            "Epoch: 1/3... Training Loss: 2.045 Test Loss: 2.032 Test Accuracy: 0.188\n",
            "Epoch: 1/3... Training Loss: 2.067 Test Loss: 2.074 Test Accuracy: 0.125\n",
            "Epoch: 1/3... Training Loss: 2.038 Test Loss: 2.058 Test Accuracy: 0.125\n",
            "Epoch: 1/3... Training Loss: 2.037 Test Loss: 2.038 Test Accuracy: 0.188\n",
            "Epoch: 1/3... Training Loss: 2.012 Test Loss: 1.997 Test Accuracy: 0.188\n",
            "Epoch: 1/3... Training Loss: 1.996 Test Loss: 1.985 Test Accuracy: 0.188\n",
            "Epoch: 1/3... Training Loss: 2.030 Test Loss: 1.974 Test Accuracy: 0.250\n",
            "Epoch: 1/3... Training Loss: 1.982 Test Loss: 1.975 Test Accuracy: 0.188\n",
            "Epoch: 2/3... Training Loss: 1.596 Test Loss: 1.972 Test Accuracy: 0.312\n",
            "Epoch: 2/3... Training Loss: 1.984 Test Loss: 1.954 Test Accuracy: 0.250\n",
            "Epoch: 2/3... Training Loss: 1.964 Test Loss: 1.987 Test Accuracy: 0.250\n",
            "Epoch: 2/3... Training Loss: 1.981 Test Loss: 1.962 Test Accuracy: 0.188\n",
            "Epoch: 2/3... Training Loss: 1.971 Test Loss: 1.965 Test Accuracy: 0.188\n",
            "Epoch: 2/3... Training Loss: 1.942 Test Loss: 1.928 Test Accuracy: 0.188\n",
            "Epoch: 2/3... Training Loss: 1.945 Test Loss: 1.933 Test Accuracy: 0.375\n",
            "Epoch: 2/3... Training Loss: 2.084 Test Loss: 2.017 Test Accuracy: 0.125\n",
            "Epoch: 2/3... Training Loss: 1.962 Test Loss: 1.945 Test Accuracy: 0.125\n",
            "Epoch: 2/3... Training Loss: 1.979 Test Loss: 1.956 Test Accuracy: 0.188\n",
            "Epoch: 2/3... Training Loss: 1.940 Test Loss: 1.940 Test Accuracy: 0.125\n",
            "Epoch: 2/3... Training Loss: 1.932 Test Loss: 1.904 Test Accuracy: 0.062\n",
            "Epoch: 3/3... Training Loss: 1.090 Test Loss: 1.940 Test Accuracy: 0.188\n",
            "Epoch: 3/3... Training Loss: 1.923 Test Loss: 1.925 Test Accuracy: 0.250\n",
            "Epoch: 3/3... Training Loss: 1.939 Test Loss: 1.888 Test Accuracy: 0.438\n",
            "Epoch: 3/3... Training Loss: 1.931 Test Loss: 1.920 Test Accuracy: 0.438\n",
            "Epoch: 3/3... Training Loss: 1.950 Test Loss: 1.932 Test Accuracy: 0.375\n",
            "Epoch: 3/3... Training Loss: 1.913 Test Loss: 1.921 Test Accuracy: 0.250\n",
            "Epoch: 3/3... Training Loss: 1.915 Test Loss: 1.937 Test Accuracy: 0.188\n",
            "Epoch: 3/3... Training Loss: 1.930 Test Loss: 1.887 Test Accuracy: 0.312\n",
            "Epoch: 3/3... Training Loss: 1.915 Test Loss: 1.875 Test Accuracy: 0.438\n",
            "Epoch: 3/3... Training Loss: 1.942 Test Loss: 1.955 Test Accuracy: 0.125\n",
            "Epoch: 3/3... Training Loss: 1.986 Test Loss: 2.012 Test Accuracy: 0.250\n",
            "Epoch: 3/3... Training Loss: 1.943 Test Loss: 1.893 Test Accuracy: 0.500\n"
          ],
          "name": "stdout"
        }
      ]
    },
    {
      "cell_type": "code",
      "metadata": {
        "id": "uhtjWwvVlcDF",
        "colab_type": "code",
        "colab": {}
      },
      "source": [
        ""
      ],
      "execution_count": null,
      "outputs": []
    },
    {
      "cell_type": "code",
      "metadata": {
        "id": "f8MSdTlYTRcg",
        "colab_type": "code",
        "colab": {
          "base_uri": "https://localhost:8080/",
          "height": 517
        },
        "outputId": "2d71a61e-06c1-4fdb-9450-be8d204d9c0b"
      },
      "source": [
        "import matplotlib.pyplot as plt\n",
        "import matplotlib.image as mpimg\n",
        "\n",
        "images, labels = next(iter(trainloader))\n",
        "\n",
        "img = images[7].view(1, 1024)\n",
        "plt.imshow(images[7][0])\n",
        "plt.show()\n",
        "\n",
        "with torch.no_grad():\n",
        "  logits = model.forward(img)\n",
        "\n",
        "prob = F.softmax(logits, dim=1)\n",
        "y = prob.detach()[0].numpy()\n",
        "x = [x for x in range(10)]\n",
        "\n",
        "plt.ylim([0, 1])\n",
        "p1 = plt.bar(x, y)\n",
        "plt.ylabel('Probability')\n",
        "plt.xticks(x)\n",
        "\n",
        "plt.show()"
      ],
      "execution_count": null,
      "outputs": [
        {
          "output_type": "display_data",
          "data": {
            "image/png": "[encoded data removed]",
            "text/plain": [
              "<Figure size 432x288 with 1 Axes>"
            ]
          },
          "metadata": {
            "tags": [],
            "image/png": {
              "width": 251,
              "height": 248
            },
            "needs_background": "light"
          }
        },
        {
          "output_type": "display_data",
          "data": {
            "image/png": "[encoded data removed]",
            "text/plain": [
              "<Figure size 432x288 with 1 Axes>"
            ]
          },
          "metadata": {
            "tags": [],
            "image/png": {
              "width": 385,
              "height": 252
            },
            "needs_background": "light"
          }
        }
      ]
    },
    {
      "cell_type": "code",
      "metadata": {
        "id": "4I8kd0dZz0uI",
        "colab_type": "code",
        "colab": {}
      },
      "source": [
        "torch.save(model, 'checkpoint.pth')"
      ],
      "execution_count": null,
      "outputs": []
    },
    {
      "cell_type": "code",
      "metadata": {
        "id": "d8QRsOstz9Im",
        "colab_type": "code",
        "colab": {}
      },
      "source": [
        "model = torch.load('checkpoint.pth')"
      ],
      "execution_count": null,
      "outputs": []
    },
    {
      "cell_type": "code",
      "metadata": {
        "id": "CZG9-1Hc0PQC",
        "colab_type": "code",
        "colab": {
          "base_uri": "https://localhost:8080/",
          "height": 517
        },
        "outputId": "561dc347-4fea-43a2-d90d-180565299a2d"
      },
      "source": [
        "images, labels = next(iter(trainloader))\n",
        "\n",
        "img = images[7].view(1, 1024)\n",
        "plt.imshow(images[7][0])\n",
        "plt.show()\n",
        "\n",
        "with torch.no_grad():\n",
        "  logits = model.forward(img)\n",
        "\n",
        "prob = F.softmax(logits, dim=1)\n",
        "y = prob.detach()[0].numpy()\n",
        "x = [x for x in range(10)]\n",
        "\n",
        "plt.ylim([0, 1])\n",
        "p1 = plt.bar(x, y)\n",
        "plt.ylabel('Probability')\n",
        "plt.xticks(x)\n",
        "\n",
        "plt.show()"
      ],
      "execution_count": null,
      "outputs": [
        {
          "output_type": "display_data",
          "data": {
            "image/png": "[encoded data removed]",
            "text/plain": [
              "<Figure size 432x288 with 1 Axes>"
            ]
          },
          "metadata": {
            "tags": [],
            "image/png": {
              "width": 251,
              "height": 248
            },
            "needs_background": "light"
          }
        },
        {
          "output_type": "display_data",
          "data": {
            "image/png": "[encoded data removed]",
            "text/plain": [
              "<Figure size 432x288 with 1 Axes>"
            ]
          },
          "metadata": {
            "tags": [],
            "image/png": {
              "width": 385,
              "height": 252
            },
            "needs_background": "light"
          }
        }
      ]
    },
    {
      "cell_type": "code",
      "metadata": {
        "id": "FYWRGNXy0oNa",
        "colab_type": "code",
        "colab": {}
      },
      "source": [
        "# from google.colab import files\n",
        "# files.download('checkpoint.pth')"
      ],
      "execution_count": null,
      "outputs": []
    }
  ]
}