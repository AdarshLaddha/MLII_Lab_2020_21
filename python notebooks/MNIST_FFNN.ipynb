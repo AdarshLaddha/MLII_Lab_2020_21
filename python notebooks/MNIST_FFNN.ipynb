{
  "nbformat": 4,
  "nbformat_minor": 0,
  "metadata": {
    "colab": {
      "name": "MNIST.ipynb",
      "provenance": []
    },
    "kernelspec": {
      "name": "python3",
      "display_name": "Python 3"
    }
  },
  "cells": [
    {
      "cell_type": "code",
      "metadata": {
        "id": "M3qGhUYzC4FY",
        "colab_type": "code",
        "colab": {}
      },
      "source": [
        "%matplotlib inline\n",
        "%config InlineBackend.figure_format = 'retina'\n",
        "\n",
        "from collections import OrderedDict\n",
        "\n",
        "import numpy as np\n",
        "import time\n",
        "\n",
        "import torch \n",
        "from torch import nn\n",
        "from torch import optim\n",
        "import torch.nn.functional as F"
      ],
      "execution_count": null,
      "outputs": []
    },
    {
      "cell_type": "code",
      "metadata": {
        "id": "gw9gIiSgEBS9",
        "colab_type": "code",
        "colab": {}
      },
      "source": [
        "from torchvision import datasets, transforms\n",
        "\n",
        "transform = transforms.Compose([transforms.ToTensor(), \n",
        "                                  transforms.Normalize((0.1307,), (0.3081,)),\n",
        "                                 ])\n",
        "\n",
        "trainset = datasets.MNIST('MNIST_data/', download=True, train=True, transform=transform)\n",
        "trainloader = torch.utils.data.DataLoader(trainset, batch_size=64, shuffle=True)\n",
        "\n",
        "testset = datasets.MNIST('MNIST_data/', download=True, train=False, transform=transform)\n",
        "testloader = torch.utils.data.DataLoader(trainset, batch_size=64, shuffle=True)"
      ],
      "execution_count": null,
      "outputs": []
    },
    {
      "cell_type": "code",
      "metadata": {
        "id": "KnrzlHHoQUi4",
        "colab_type": "code",
        "colab": {}
      },
      "source": [
        "input_size = 784\n",
        "hidden_sizes = [128, 64]\n",
        "output_size = 10\n",
        "\n",
        "model = nn.Sequential(OrderedDict([\n",
        "                      ('fc1', nn.Linear(input_size, hidden_sizes[0])),\n",
        "                      ('relu1', nn.ReLU()),\n",
        "                      ('fc2', nn.Linear(hidden_sizes[0], hidden_sizes[1])),\n",
        "                      ('relu2', nn.ReLU()),\n",
        "                      ('logits', nn.Linear(hidden_sizes[1], output_size))]))"
      ],
      "execution_count": null,
      "outputs": []
    },
    {
      "cell_type": "code",
      "metadata": {
        "id": "bj8uDfo9Dj8I",
        "colab_type": "code",
        "colab": {}
      },
      "source": [
        "criterion = nn.CrossEntropyLoss()\n",
        "optimizer = optim.SGD(model.parameters(), lr=0.01)"
      ],
      "execution_count": null,
      "outputs": []
    },
    {
      "cell_type": "code",
      "metadata": {
        "id": "bImPRJIWXjGt",
        "colab_type": "code",
        "colab": {}
      },
      "source": [
        "def validation(model, testloader, criterion):\n",
        "  test_loss = 0\n",
        "  accuracy = 0\n",
        "  for images, labels in testloader:\n",
        "    images.resize_(images.shape[0], 784)\n",
        "\n",
        "    output = model.forward(images)\n",
        "    test_loss += criterion(output, labels).item()\n",
        "\n",
        "    ps = F.softmax(output, dim=1)\n",
        "    equality = (labels.data==ps.max(dim=1)[1])\n",
        "    accuracy = equality.type(torch.FloatTensor).mean()\n",
        "  return test_loss, accuracy"
      ],
      "execution_count": null,
      "outputs": []
    },
    {
      "cell_type": "code",
      "metadata": {
        "id": "nnVZzrXBRjpQ",
        "colab_type": "code",
        "colab": {
          "base_uri": "https://localhost:8080/",
          "height": 739
        },
        "outputId": "2e835ecc-8e78-4758-bb9b-b53932ce9041"
      },
      "source": [
        "epochs = 3\n",
        "print_every = 64\n",
        "steps = 0\n",
        "for e in range(epochs):\n",
        "  running_loss = 0\n",
        "  for images, labels in trainloader:\n",
        "    steps += 1\n",
        "    images.resize_(images.shape[0], 784)\n",
        "\n",
        "    optimizer.zero_grad()\n",
        "\n",
        "    output = model.forward(images)\n",
        "    loss = criterion(output, labels)\n",
        "    loss.backward()\n",
        "    optimizer.step()\n",
        "\n",
        "    running_loss += loss.item()\n",
        "\n",
        "    if steps % print_every == 0:\n",
        "\n",
        "      with torch.no_grad():\n",
        "        test_loss, accuracy = validation(model, testloader, criterion)\n",
        "\n",
        "      print(\"Epoch: {}/{}...\".format(e+1, epochs),\n",
        "            \"Training Loss: {:.3f}\".format(running_loss/print_every),\n",
        "            \"Test Loss: {:.3f}\".format(test_loss/len(testloader)),\n",
        "            \"Test Accuracy: {:.3f}\".format(accuracy))\n",
        "      \n",
        "      running_loss = 0"
      ],
      "execution_count": null,
      "outputs": [
        {
          "output_type": "stream",
          "text": [
            "Epoch: 1/3... Training Loss: 2.248 Test Loss: 2.162 Test Accuracy: 0.500\n",
            "Epoch: 1/3... Training Loss: 2.023 Test Loss: 1.838 Test Accuracy: 0.688\n",
            "Epoch: 1/3... Training Loss: 1.603 Test Loss: 1.337 Test Accuracy: 0.656\n",
            "Epoch: 1/3... Training Loss: 1.132 Test Loss: 0.932 Test Accuracy: 0.750\n",
            "Epoch: 1/3... Training Loss: 0.819 Test Loss: 0.716 Test Accuracy: 0.781\n",
            "Epoch: 1/3... Training Loss: 0.669 Test Loss: 0.606 Test Accuracy: 0.844\n",
            "Epoch: 1/3... Training Loss: 0.574 Test Loss: 0.536 Test Accuracy: 0.875\n",
            "Epoch: 1/3... Training Loss: 0.498 Test Loss: 0.492 Test Accuracy: 0.844\n",
            "Epoch: 1/3... Training Loss: 0.460 Test Loss: 0.457 Test Accuracy: 0.781\n",
            "Epoch: 1/3... Training Loss: 0.425 Test Loss: 0.429 Test Accuracy: 0.875\n",
            "Epoch: 1/3... Training Loss: 0.416 Test Loss: 0.404 Test Accuracy: 0.719\n",
            "Epoch: 1/3... Training Loss: 0.399 Test Loss: 0.389 Test Accuracy: 0.906\n",
            "Epoch: 1/3... Training Loss: 0.387 Test Loss: 0.374 Test Accuracy: 0.875\n",
            "Epoch: 1/3... Training Loss: 0.369 Test Loss: 0.364 Test Accuracy: 0.812\n",
            "Epoch: 2/3... Training Loss: 0.120 Test Loss: 0.353 Test Accuracy: 0.906\n",
            "Epoch: 2/3... Training Loss: 0.366 Test Loss: 0.346 Test Accuracy: 0.844\n",
            "Epoch: 2/3... Training Loss: 0.329 Test Loss: 0.339 Test Accuracy: 0.938\n",
            "Epoch: 2/3... Training Loss: 0.326 Test Loss: 0.339 Test Accuracy: 0.844\n",
            "Epoch: 2/3... Training Loss: 0.321 Test Loss: 0.324 Test Accuracy: 0.812\n",
            "Epoch: 2/3... Training Loss: 0.310 Test Loss: 0.320 Test Accuracy: 0.938\n",
            "Epoch: 2/3... Training Loss: 0.322 Test Loss: 0.313 Test Accuracy: 0.938\n",
            "Epoch: 2/3... Training Loss: 0.312 Test Loss: 0.314 Test Accuracy: 0.906\n",
            "Epoch: 2/3... Training Loss: 0.324 Test Loss: 0.304 Test Accuracy: 0.938\n",
            "Epoch: 2/3... Training Loss: 0.301 Test Loss: 0.298 Test Accuracy: 0.875\n",
            "Epoch: 2/3... Training Loss: 0.296 Test Loss: 0.293 Test Accuracy: 0.938\n",
            "Epoch: 2/3... Training Loss: 0.295 Test Loss: 0.288 Test Accuracy: 0.938\n",
            "Epoch: 2/3... Training Loss: 0.283 Test Loss: 0.283 Test Accuracy: 0.750\n",
            "Epoch: 2/3... Training Loss: 0.310 Test Loss: 0.278 Test Accuracy: 0.938\n",
            "Epoch: 2/3... Training Loss: 0.289 Test Loss: 0.275 Test Accuracy: 0.906\n",
            "Epoch: 3/3... Training Loss: 0.185 Test Loss: 0.272 Test Accuracy: 0.906\n",
            "Epoch: 3/3... Training Loss: 0.278 Test Loss: 0.267 Test Accuracy: 0.906\n",
            "Epoch: 3/3... Training Loss: 0.264 Test Loss: 0.264 Test Accuracy: 1.000\n",
            "Epoch: 3/3... Training Loss: 0.264 Test Loss: 0.265 Test Accuracy: 0.875\n",
            "Epoch: 3/3... Training Loss: 0.268 Test Loss: 0.263 Test Accuracy: 0.938\n",
            "Epoch: 3/3... Training Loss: 0.254 Test Loss: 0.253 Test Accuracy: 0.969\n",
            "Epoch: 3/3... Training Loss: 0.260 Test Loss: 0.249 Test Accuracy: 0.969\n",
            "Epoch: 3/3... Training Loss: 0.258 Test Loss: 0.248 Test Accuracy: 1.000\n",
            "Epoch: 3/3... Training Loss: 0.251 Test Loss: 0.245 Test Accuracy: 0.875\n",
            "Epoch: 3/3... Training Loss: 0.230 Test Loss: 0.246 Test Accuracy: 0.812\n",
            "Epoch: 3/3... Training Loss: 0.243 Test Loss: 0.240 Test Accuracy: 0.969\n",
            "Epoch: 3/3... Training Loss: 0.253 Test Loss: 0.239 Test Accuracy: 0.969\n",
            "Epoch: 3/3... Training Loss: 0.246 Test Loss: 0.234 Test Accuracy: 1.000\n",
            "Epoch: 3/3... Training Loss: 0.232 Test Loss: 0.231 Test Accuracy: 0.938\n"
          ],
          "name": "stdout"
        }
      ]
    },
    {
      "cell_type": "code",
      "metadata": {
        "id": "uhtjWwvVlcDF",
        "colab_type": "code",
        "colab": {}
      },
      "source": [
        ""
      ],
      "execution_count": null,
      "outputs": []
    },
    {
      "cell_type": "code",
      "metadata": {
        "id": "f8MSdTlYTRcg",
        "colab_type": "code",
        "colab": {
          "base_uri": "https://localhost:8080/",
          "height": 517
        },
        "outputId": "ebc98640-6a85-45d4-b9d9-b92f6499d738"
      },
      "source": [
        "import matplotlib.pyplot as plt\n",
        "import matplotlib.image as mpimg\n",
        "\n",
        "images, labels = next(iter(trainloader))\n",
        "\n",
        "img = images[7].view(1, 784)\n",
        "plt.imshow(images[7][0])\n",
        "plt.show()\n",
        "\n",
        "with torch.no_grad():\n",
        "  logits = model.forward(img)\n",
        "\n",
        "prob = F.softmax(logits, dim=1)\n",
        "y = prob.detach()[0].numpy()\n",
        "x = [x for x in range(10)]\n",
        "\n",
        "plt.ylim([0, 1])\n",
        "p1 = plt.bar(x, y)\n",
        "plt.ylabel('Probability')\n",
        "plt.xticks(x)\n",
        "\n",
        "plt.show()"
      ],
      "execution_count": null,
      "outputs": [
        {
          "output_type": "display_data",
          "data": {
            "image/png": "[encoded data removed]",
            "text/plain": [
              "<Figure size 432x288 with 1 Axes>"
            ]
          },
          "metadata": {
            "tags": [],
            "image/png": {
              "width": 251,
              "height": 248
            },
            "needs_background": "light"
          }
        },
        {
          "output_type": "display_data",
          "data": {
            "image/png": "[encoded data removed]",
            "text/plain": [
              "<Figure size 432x288 with 1 Axes>"
            ]
          },
          "metadata": {
            "tags": [],
            "image/png": {
              "width": 385,
              "height": 252
            },
            "needs_background": "light"
          }
        }
      ]
    },
    {
      "cell_type": "code",
      "metadata": {
        "id": "4I8kd0dZz0uI",
        "colab_type": "code",
        "colab": {}
      },
      "source": [
        "torch.save(model, 'checkpoint.pth')"
      ],
      "execution_count": null,
      "outputs": []
    },
    {
      "cell_type": "code",
      "metadata": {
        "id": "d8QRsOstz9Im",
        "colab_type": "code",
        "colab": {}
      },
      "source": [
        "model = torch.load('checkpoint.pth')"
      ],
      "execution_count": null,
      "outputs": []
    },
    {
      "cell_type": "code",
      "metadata": {
        "id": "CZG9-1Hc0PQC",
        "colab_type": "code",
        "colab": {
          "base_uri": "https://localhost:8080/",
          "height": 517
        },
        "outputId": "0a0acc6b-97fb-4ff0-b052-9d0fc0c3be14"
      },
      "source": [
        "images, labels = next(iter(trainloader))\n",
        "\n",
        "img = images[7].view(1, 784)\n",
        "plt.imshow(images[7][0])\n",
        "plt.show()\n",
        "\n",
        "with torch.no_grad():\n",
        "  logits = model.forward(img)\n",
        "\n",
        "prob = F.softmax(logits, dim=1)\n",
        "y = prob.detach()[0].numpy()\n",
        "x = [x for x in range(10)]\n",
        "\n",
        "plt.ylim([0, 1])\n",
        "p1 = plt.bar(x, y)\n",
        "plt.ylabel('Probability')\n",
        "plt.xticks(x)\n",
        "\n",
        "plt.show()"
      ],
      "execution_count": null,
      "outputs": [
        {
          "output_type": "display_data",
          "data": {
            "image/png": "[encoded data removed]",
            "text/plain": [
              "<Figure size 432x288 with 1 Axes>"
            ]
          },
          "metadata": {
            "tags": [],
            "image/png": {
              "width": 251,
              "height": 248
            },
            "needs_background": "light"
          }
        },
        {
          "output_type": "display_data",
          "data": {
            "image/png": "[encoded data removed]",
            "text/plain": [
              "<Figure size 432x288 with 1 Axes>"
            ]
          },
          "metadata": {
            "tags": [],
            "image/png": {
              "width": 385,
              "height": 252
            },
            "needs_background": "light"
          }
        }
      ]
    },
    {
      "cell_type": "code",
      "metadata": {
        "id": "FYWRGNXy0oNa",
        "colab_type": "code",
        "colab": {}
      },
      "source": [
        "# from google.colab import files\n",
        "# files.download('checkpoint.pth')"
      ],
      "execution_count": null,
      "outputs": []
    }
  ]
}